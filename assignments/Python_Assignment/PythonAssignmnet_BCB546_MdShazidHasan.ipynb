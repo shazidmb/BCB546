{
 "cells": [
  {
   "cell_type": "markdown",
   "id": "12ae1815",
   "metadata": {},
   "source": [
    "# Python Assignment "
   ]
  },
  {
   "cell_type": "code",
   "execution_count": 1,
   "id": "ee79c8f9",
   "metadata": {},
   "outputs": [],
   "source": [
    "from Bio import SeqIO\n",
    "from Bio.Data import CodonTable\n",
    "import pandas as pd\n",
    "from Bio.Seq import Seq\n",
    "import matplotlib as plt\n",
    "import matplotlib.pyplot as plt\n",
    "plt.style.use('ggplot')"
   ]
  },
  {
   "cell_type": "code",
   "execution_count": 3,
   "id": "3a859ac4",
   "metadata": {},
   "outputs": [
    {
     "name": "stdout",
     "output_type": "stream",
     "text": [
      "Requirement already satisfied: biopython in c:\\users\\shazid\\anaconda3\\lib\\site-packages (1.78)\n",
      "Requirement already satisfied: numpy in c:\\users\\shazid\\anaconda3\\lib\\site-packages (from biopython) (1.21.5)\n",
      "Note: you may need to restart the kernel to use updated packages.\n"
     ]
    }
   ],
   "source": [
    "pip install biopython"
   ]
  },
  {
   "cell_type": "markdown",
   "id": "358ff9e9",
   "metadata": {},
   "source": [
    "# 1"
   ]
  },
  {
   "cell_type": "code",
   "execution_count": 4,
   "id": "a4af0bb8",
   "metadata": {},
   "outputs": [],
   "source": [
    "def get_sequences_from_file(fasta_fn):\n",
    "    sequence_data_dict = {}\n",
    "    for record in SeqIO.parse(fasta_fn, \"fasta\"):\n",
    "        description = record.description.split()\n",
    "        species_name = description[1] + \" \" + description[2]\n",
    "        sequence_data_dict[species_name] = record.seq\n",
    "    return(sequence_data_dict)"
   ]
  },
  {
   "cell_type": "markdown",
   "id": "f8320543",
   "metadata": {},
   "source": [
    "Here, `def` is defining the function get_sequences_from_file with the fasta file as an argument.\n",
    "\n",
    "This is a Python function called `get_sequences_from_file` that takes a string fasta_fn as its input parameter. The purpose of this function is to read a fasta file and store the sequence data in a dictionary format.\n",
    "\n",
    "First, an empty dictionary called sequence_data_dict is created.\n",
    "\n",
    "The function uses the `SeqIO.parse` function from the Biopython library to read the fasta file. This function takes two parameters, the name of the fasta file (fasta_fn in this case) and the format of the file (\"fasta\"). It returns an iterator that produces SeqRecord objects for each sequence in the fasta file.\n",
    "\n",
    "The function then loops through each SeqRecord object produced by SeqIO.parse. For each record, it splits the description string into a list of words using the split function. The second and third elements of this list are concatenated to form the species_name variable.\n",
    "\n",
    "Finally, the sequence_data_dict dictionary is updated with a new key-value pair, where the key is the species_name variable and the value is the actual DNA sequence, accessed using the seq attribute of the SeqRecord object.\n",
    "\n",
    "Once all sequences in the fasta file have been processed, the function returns the sequence_data_dict dictionary containing all the DNA sequences from the file, with species names as keys."
   ]
  },
  {
   "cell_type": "markdown",
   "id": "f8d763ba",
   "metadata": {},
   "source": [
    "# 2"
   ]
  },
  {
   "cell_type": "code",
   "execution_count": 5,
   "id": "09fdd7b0",
   "metadata": {},
   "outputs": [
    {
     "name": "stdout",
     "output_type": "stream",
     "text": [
      "Table 2 Vertebrate Mitochondrial, SGC1\n",
      "\n",
      "  |  T      |  C      |  A      |  G      |\n",
      "--+---------+---------+---------+---------+--\n",
      "T | TTT F   | TCT S   | TAT Y   | TGT C   | T\n",
      "T | TTC F   | TCC S   | TAC Y   | TGC C   | C\n",
      "T | TTA L   | TCA S   | TAA Stop| TGA W   | A\n",
      "T | TTG L   | TCG S   | TAG Stop| TGG W   | G\n",
      "--+---------+---------+---------+---------+--\n",
      "C | CTT L   | CCT P   | CAT H   | CGT R   | T\n",
      "C | CTC L   | CCC P   | CAC H   | CGC R   | C\n",
      "C | CTA L   | CCA P   | CAA Q   | CGA R   | A\n",
      "C | CTG L   | CCG P   | CAG Q   | CGG R   | G\n",
      "--+---------+---------+---------+---------+--\n",
      "A | ATT I(s)| ACT T   | AAT N   | AGT S   | T\n",
      "A | ATC I(s)| ACC T   | AAC N   | AGC S   | C\n",
      "A | ATA M(s)| ACA T   | AAA K   | AGA Stop| A\n",
      "A | ATG M(s)| ACG T   | AAG K   | AGG Stop| G\n",
      "--+---------+---------+---------+---------+--\n",
      "G | GTT V   | GCT A   | GAT D   | GGT G   | T\n",
      "G | GTC V   | GCC A   | GAC D   | GGC G   | C\n",
      "G | GTA V   | GCA A   | GAA E   | GGA G   | A\n",
      "G | GTG V(s)| GCG A   | GAG E   | GGG G   | G\n",
      "--+---------+---------+---------+---------+--\n"
     ]
    }
   ],
   "source": [
    "mito_table = CodonTable.unambiguous_dna_by_name[\"Vertebrate Mitochondrial\"]\n",
    "print(mito_table) #to look at mito_table contents"
   ]
  },
  {
   "cell_type": "markdown",
   "id": "574e21df",
   "metadata": {},
   "source": [
    "The \"Vertebrate Mitochondrial\" codon table is one of the predefined tables available in Biopython. It is a special codon table used by mitochondrial DNA in vertebrates, which has some differences from the standard codon table used by nuclear DNA in those same organisms."
   ]
  },
  {
   "cell_type": "code",
   "execution_count": 6,
   "id": "ebba6f22",
   "metadata": {},
   "outputs": [],
   "source": [
    "def translate_function(string_nucleotides): \n",
    "    mito_table = CodonTable.unambiguous_dna_by_name[\"Vertebrate Mitochondrial\"]\n",
    "    aa_seq_string = '' \n",
    "    if len(string_nucleotides)%3 == 0:                                                      \n",
    "        for i in range(0, len(string_nucleotides), 3):\n",
    "            codon = string_nucleotides[i:i + 3]\n",
    "    if codon in [\"TAA\", \"TAG\", \"AGA\", \"AGG\"]:                               \n",
    "            return aa_seq_string\n",
    "    aa_seq_string+= mito_table[codon]                                        \n",
    "    return aa_seq_string"
   ]
  },
  {
   "cell_type": "markdown",
   "id": "59676a57",
   "metadata": {},
   "source": [
    "This is a Python function called `translate_function` which takes a string of nucleotides as input and returns a string of amino acids.\n",
    "\n",
    "The function first accesses the Vertebrate Mitochondrial codon table from the `CodonTable` module provided by Biopython. This table maps each possible codon (triplet of nucleotides) to the corresponding amino acid.\n",
    "\n",
    "Next, the function checks if the length of the input nucleotide string is divisible by 3 (the length of a codon). If not, the function does not attempt to translate the string and returns an empty string.\n",
    "\n",
    "If the string length is divisible by 3, the function proceeds to iterate over the string, processing one codon at a time. For each codon, the function checks if it is a stop codon (TAA, TAG, AGA, AGG). If it is, the function returns the current amino acid sequence string without including the stop codon.\n",
    "\n",
    "If the current codon is not a stop codon, the function looks up the corresponding amino acid for that codon in the mito_table using the codon as the key. The function then appends the amino acid to the current amino acid sequence string.\n",
    "\n",
    "Finally, the function returns the completed amino acid sequence string.\n",
    "\n",
    "This code is collected from https://www.geeksforgeeks.org/dna-protein-python-3/ (https://github.com/florist-notes/Data-Analysis/blob/master/data-analysis%20project%20-%203%20-%20DNA_Translation/dna_seq.py)"
   ]
  },
  {
   "cell_type": "markdown",
   "id": "54941784",
   "metadata": {},
   "source": [
    "# 3"
   ]
  },
  {
   "cell_type": "code",
   "execution_count": 7,
   "id": "9e83492d",
   "metadata": {},
   "outputs": [],
   "source": [
    "def translate(string_nucleotides):\n",
    "    seq_string = Seq.translate(string_nucleotides, table=2, to_stop=True)\n",
    "    return str(seq_string)"
   ]
  },
  {
   "cell_type": "markdown",
   "id": "d391e94a",
   "metadata": {},
   "source": [
    "This is a Python function called `translate` which takes a string of nucleotides as input and returns a string of amino acids.\n",
    "\n",
    "The function uses Biopython's `Seq` object to translate the input nucleotide sequence into a protein sequence. The `translate` method of the `Seq` object takes several optional arguments. In this case, the `table` argument is set to 2 in the library which is \"Vertebrate Mitochondrial\", which corresponds to the standard genetic code used by most organisms, and the `to_stop` argument is set to `True`, which means translation will stop at the first in-frame stop codon.\n",
    "\n",
    "The resulting protein sequence is returned as a `Seq` object, so the function converts it to a string using the `str` function before returning it.\n",
    "\n",
    "Note that the `translate` method will automatically handle any necessary adjustments for frameshifts or incomplete codons at the end of the input sequence."
   ]
  },
  {
   "cell_type": "markdown",
   "id": "b5f2b85e",
   "metadata": {},
   "source": [
    "# 4"
   ]
  },
  {
   "cell_type": "code",
   "execution_count": 8,
   "id": "d65378ab",
   "metadata": {},
   "outputs": [],
   "source": [
    "from Bio.SeqUtils.ProtParam import ProteinAnalysis"
   ]
  },
  {
   "cell_type": "code",
   "execution_count": 9,
   "id": "4a860ba7",
   "metadata": {},
   "outputs": [],
   "source": [
    "def compute_molecular_weight(aa_seq):\n",
    "    aa_analysis = ProteinAnalysis(aa_seq)\n",
    "    molecular_weight = aa_analysis.molecular_weight()\n",
    "    return molecular_weight"
   ]
  },
  {
   "cell_type": "markdown",
   "id": "1cd600ef",
   "metadata": {},
   "source": [
    "This is a Python function called `compute_molecular_weight` which takes a string of amino acids as input and returns the molecular weight of the protein.\n",
    "\n",
    "The function uses Biopython's `ProteinAnalysis` module to analyze the input amino acid sequence. The ProteinAnalysis class provides various methods to compute different properties of a protein sequence, such as `molecular weight, isoelectric point, and secondary structure composition`.\n",
    "\n",
    "In this case, the `ProteinAnalysis` object is initialized with the input amino acid sequence `aa_seq`. Then, the `molecular_weight` method is called on the aa_analysis object to calculate the molecular weight of the protein sequence.\n",
    "\n",
    "Finally, the calculated molecular weight is returned as the output of the function."
   ]
  },
  {
   "cell_type": "markdown",
   "id": "7ad14240",
   "metadata": {},
   "source": [
    "# 5"
   ]
  },
  {
   "cell_type": "code",
   "execution_count": 24,
   "id": "47ebec54",
   "metadata": {},
   "outputs": [],
   "source": [
    "def gc_content(DNA_string):\n",
    "    G_count = DNA_string.count(\"G\")\n",
    "    C_count = DNA_string.count(\"C\")\n",
    "    DNAstring_length = len(DNA_string)\n",
    "    GC_content = (C_count+G_count)/DNAstring_length\n",
    "    return  GC_content"
   ]
  },
  {
   "cell_type": "markdown",
   "id": "4a6e6fdd",
   "metadata": {},
   "source": [
    "This is a Python function called `gc_content` which takes a string of DNA nucleotides as input and returns the GC content of the DNA sequence.\n",
    "\n",
    "The function first counts the number of occurrences of the nucleotides G and C in the input DNA sequence using the count method. These `counts` are stored in the variables `G_count` and `C_count`.\n",
    "\n",
    "The function also calculates the length of the input DNA sequence by using the `len` function and storing the result in the variable DNAstring_length.\n",
    "\n",
    "The GC content is then calculated by dividing the sum of G and C counts by the total length of the DNA sequence. The result is stored in the variable `GC_content`.\n",
    "\n",
    "Finally, the GC content is returned as the output of the function."
   ]
  },
  {
   "cell_type": "code",
   "execution_count": 26,
   "id": "a61b81e1",
   "metadata": {},
   "outputs": [],
   "source": [
    "cytb_seqs = get_sequences_from_file(\"penguins_cytb.fasta\") "
   ]
  },
  {
   "cell_type": "code",
   "execution_count": 27,
   "id": "5717174a",
   "metadata": {},
   "outputs": [],
   "source": [
    "penguins_df = pd.read_csv(\"penguins_mass.csv\") \n",
    "species_list = list(penguins_df.species)"
   ]
  },
  {
   "cell_type": "markdown",
   "id": "693895ec",
   "metadata": {},
   "source": [
    "# 6 "
   ]
  },
  {
   "cell_type": "code",
   "execution_count": 13,
   "id": "96b115f9",
   "metadata": {},
   "outputs": [
    {
     "data": {
      "text/plain": [
       "{'Aptenodytes forsteri': Seq('ATGGCCCCAAATCTCCGAAAATCCCATCCCCTCCTAAAAATAATTAATAACTCC...TAA'),\n",
       " 'Aptenodytes patagonicus': Seq('ATGGCCCCAAACCTCCGAAAATCCCATCCTCTCCTAAAAATAATTAATAACTCC...TAA'),\n",
       " 'Eudyptes chrysocome': Seq('ATGGCCCCCAACCTCCGAAAATCCCACCCCCTCCTAAAAACAATCAATAACTCC...TAA'),\n",
       " 'Eudyptes chrysolophus': Seq('ATGGCCCCCAACCTCCGAAAATCCCACCCCCTCCTAAAAACAATCAATAACTCC...TAA'),\n",
       " 'Eudyptes sclateri': Seq('ATGGCCCCCAACCTCCGAAAATCCCACCCCCTCCTAAAAACAATCAATAACTCC...TAA'),\n",
       " 'Eudyptula minor': Seq('ATGGCCCCCAACCTCCGAAAATCTCACCCCCTCCTAAAAATAATCAACAACTCT...TAA'),\n",
       " 'Pygoscelis adeliae': Seq('ATGGCCCCCAACCTCCGAAAATCCCACCCTCTCCTAAAAATAATTAACAACTCC...TAA'),\n",
       " 'Pygoscelis antarctica': Seq('ATGGCCCCCAACCTCCGAAAATCCCACCCTCTCCTAAAAATAATCAACAACTCC...TAG'),\n",
       " 'Pygoscelis papua': Seq('ATGGCCCCCAACCTTCGAAAATCCCACCCTCTCCTAAAAATAATCAACAAATCC...TAG'),\n",
       " 'Spheniscus demersus': Seq('ATGGCCCCCAACCTCCGAAAATCCCACCCTCTCCTAAAAACAATCAACAACTCC...TAA'),\n",
       " 'Spheniscus humboldti': Seq('ATGGCCCCCAACCTCCGAAAATCCCACCCTCTCCTAAAAACAATCAACAACTCC...TAA'),\n",
       " 'Spheniscus magellanicus': Seq('ATGGCCCCCAACCTCCGAAAATCCCACCCTCTCCTAAAAACAATCAACAACTCC...TAA')}"
      ]
     },
     "execution_count": 13,
     "metadata": {},
     "output_type": "execute_result"
    }
   ],
   "source": [
    "cytb_seqs #checking if it was correctly imported"
   ]
  },
  {
   "cell_type": "code",
   "execution_count": 14,
   "id": "dd525f04",
   "metadata": {
    "scrolled": true
   },
   "outputs": [
    {
     "data": {
      "text/html": [
       "<div>\n",
       "<style scoped>\n",
       "    .dataframe tbody tr th:only-of-type {\n",
       "        vertical-align: middle;\n",
       "    }\n",
       "\n",
       "    .dataframe tbody tr th {\n",
       "        vertical-align: top;\n",
       "    }\n",
       "\n",
       "    .dataframe thead th {\n",
       "        text-align: right;\n",
       "    }\n",
       "</style>\n",
       "<table border=\"1\" class=\"dataframe\">\n",
       "  <thead>\n",
       "    <tr style=\"text-align: right;\">\n",
       "      <th></th>\n",
       "      <th>species</th>\n",
       "      <th>mass</th>\n",
       "    </tr>\n",
       "  </thead>\n",
       "  <tbody>\n",
       "    <tr>\n",
       "      <th>0</th>\n",
       "      <td>Aptenodytes forsteri</td>\n",
       "      <td>28.00</td>\n",
       "    </tr>\n",
       "    <tr>\n",
       "      <th>1</th>\n",
       "      <td>Aptenodytes patagonicus</td>\n",
       "      <td>13.40</td>\n",
       "    </tr>\n",
       "    <tr>\n",
       "      <th>2</th>\n",
       "      <td>Eudyptes chrysocome</td>\n",
       "      <td>2.80</td>\n",
       "    </tr>\n",
       "    <tr>\n",
       "      <th>3</th>\n",
       "      <td>Eudyptes chrysolophus</td>\n",
       "      <td>4.50</td>\n",
       "    </tr>\n",
       "    <tr>\n",
       "      <th>4</th>\n",
       "      <td>Eudyptes sclateri</td>\n",
       "      <td>4.25</td>\n",
       "    </tr>\n",
       "    <tr>\n",
       "      <th>5</th>\n",
       "      <td>Eudyptula minor</td>\n",
       "      <td>1.60</td>\n",
       "    </tr>\n",
       "    <tr>\n",
       "      <th>6</th>\n",
       "      <td>Pygoscelis adeliae</td>\n",
       "      <td>4.60</td>\n",
       "    </tr>\n",
       "    <tr>\n",
       "      <th>7</th>\n",
       "      <td>Pygoscelis antarctica</td>\n",
       "      <td>4.10</td>\n",
       "    </tr>\n",
       "    <tr>\n",
       "      <th>8</th>\n",
       "      <td>Pygoscelis papua</td>\n",
       "      <td>6.10</td>\n",
       "    </tr>\n",
       "    <tr>\n",
       "      <th>9</th>\n",
       "      <td>Spheniscus demersus</td>\n",
       "      <td>3.20</td>\n",
       "    </tr>\n",
       "    <tr>\n",
       "      <th>10</th>\n",
       "      <td>Spheniscus humboldti</td>\n",
       "      <td>4.75</td>\n",
       "    </tr>\n",
       "    <tr>\n",
       "      <th>11</th>\n",
       "      <td>Spheniscus magellanicus</td>\n",
       "      <td>3.40</td>\n",
       "    </tr>\n",
       "  </tbody>\n",
       "</table>\n",
       "</div>"
      ],
      "text/plain": [
       "                    species   mass\n",
       "0      Aptenodytes forsteri  28.00\n",
       "1   Aptenodytes patagonicus  13.40\n",
       "2       Eudyptes chrysocome   2.80\n",
       "3     Eudyptes chrysolophus   4.50\n",
       "4         Eudyptes sclateri   4.25\n",
       "5           Eudyptula minor   1.60\n",
       "6        Pygoscelis adeliae   4.60\n",
       "7     Pygoscelis antarctica   4.10\n",
       "8          Pygoscelis papua   6.10\n",
       "9       Spheniscus demersus   3.20\n",
       "10     Spheniscus humboldti   4.75\n",
       "11  Spheniscus magellanicus   3.40"
      ]
     },
     "execution_count": 14,
     "metadata": {},
     "output_type": "execute_result"
    }
   ],
   "source": [
    "penguins_df #checking the csv file information"
   ]
  },
  {
   "cell_type": "code",
   "execution_count": 15,
   "id": "fc220f32",
   "metadata": {},
   "outputs": [
    {
     "data": {
      "text/plain": [
       "['Aptenodytes forsteri',\n",
       " 'Aptenodytes patagonicus',\n",
       " 'Eudyptes chrysocome',\n",
       " 'Eudyptes chrysolophus',\n",
       " 'Eudyptes sclateri',\n",
       " 'Eudyptula minor',\n",
       " 'Pygoscelis adeliae',\n",
       " 'Pygoscelis antarctica',\n",
       " 'Pygoscelis papua',\n",
       " 'Spheniscus demersus',\n",
       " 'Spheniscus humboldti',\n",
       " 'Spheniscus magellanicus']"
      ]
     },
     "execution_count": 15,
     "metadata": {},
     "output_type": "execute_result"
    }
   ],
   "source": [
    "species_list #checking"
   ]
  },
  {
   "cell_type": "code",
   "execution_count": 16,
   "id": "5638ceab",
   "metadata": {},
   "outputs": [
    {
     "data": {
      "text/html": [
       "<div>\n",
       "<style scoped>\n",
       "    .dataframe tbody tr th:only-of-type {\n",
       "        vertical-align: middle;\n",
       "    }\n",
       "\n",
       "    .dataframe tbody tr th {\n",
       "        vertical-align: top;\n",
       "    }\n",
       "\n",
       "    .dataframe thead th {\n",
       "        text-align: right;\n",
       "    }\n",
       "</style>\n",
       "<table border=\"1\" class=\"dataframe\">\n",
       "  <thead>\n",
       "    <tr style=\"text-align: right;\">\n",
       "      <th></th>\n",
       "      <th>species</th>\n",
       "      <th>mass</th>\n",
       "      <th>Molecular Weight</th>\n",
       "    </tr>\n",
       "  </thead>\n",
       "  <tbody>\n",
       "    <tr>\n",
       "      <th>0</th>\n",
       "      <td>Aptenodytes forsteri</td>\n",
       "      <td>28.00</td>\n",
       "      <td>NaN</td>\n",
       "    </tr>\n",
       "    <tr>\n",
       "      <th>1</th>\n",
       "      <td>Aptenodytes patagonicus</td>\n",
       "      <td>13.40</td>\n",
       "      <td>NaN</td>\n",
       "    </tr>\n",
       "    <tr>\n",
       "      <th>2</th>\n",
       "      <td>Eudyptes chrysocome</td>\n",
       "      <td>2.80</td>\n",
       "      <td>NaN</td>\n",
       "    </tr>\n",
       "    <tr>\n",
       "      <th>3</th>\n",
       "      <td>Eudyptes chrysolophus</td>\n",
       "      <td>4.50</td>\n",
       "      <td>NaN</td>\n",
       "    </tr>\n",
       "    <tr>\n",
       "      <th>4</th>\n",
       "      <td>Eudyptes sclateri</td>\n",
       "      <td>4.25</td>\n",
       "      <td>NaN</td>\n",
       "    </tr>\n",
       "    <tr>\n",
       "      <th>5</th>\n",
       "      <td>Eudyptula minor</td>\n",
       "      <td>1.60</td>\n",
       "      <td>NaN</td>\n",
       "    </tr>\n",
       "    <tr>\n",
       "      <th>6</th>\n",
       "      <td>Pygoscelis adeliae</td>\n",
       "      <td>4.60</td>\n",
       "      <td>NaN</td>\n",
       "    </tr>\n",
       "    <tr>\n",
       "      <th>7</th>\n",
       "      <td>Pygoscelis antarctica</td>\n",
       "      <td>4.10</td>\n",
       "      <td>NaN</td>\n",
       "    </tr>\n",
       "    <tr>\n",
       "      <th>8</th>\n",
       "      <td>Pygoscelis papua</td>\n",
       "      <td>6.10</td>\n",
       "      <td>NaN</td>\n",
       "    </tr>\n",
       "    <tr>\n",
       "      <th>9</th>\n",
       "      <td>Spheniscus demersus</td>\n",
       "      <td>3.20</td>\n",
       "      <td>NaN</td>\n",
       "    </tr>\n",
       "    <tr>\n",
       "      <th>10</th>\n",
       "      <td>Spheniscus humboldti</td>\n",
       "      <td>4.75</td>\n",
       "      <td>NaN</td>\n",
       "    </tr>\n",
       "    <tr>\n",
       "      <th>11</th>\n",
       "      <td>Spheniscus magellanicus</td>\n",
       "      <td>3.40</td>\n",
       "      <td>NaN</td>\n",
       "    </tr>\n",
       "  </tbody>\n",
       "</table>\n",
       "</div>"
      ],
      "text/plain": [
       "                    species   mass Molecular Weight\n",
       "0      Aptenodytes forsteri  28.00              NaN\n",
       "1   Aptenodytes patagonicus  13.40              NaN\n",
       "2       Eudyptes chrysocome   2.80              NaN\n",
       "3     Eudyptes chrysolophus   4.50              NaN\n",
       "4         Eudyptes sclateri   4.25              NaN\n",
       "5           Eudyptula minor   1.60              NaN\n",
       "6        Pygoscelis adeliae   4.60              NaN\n",
       "7     Pygoscelis antarctica   4.10              NaN\n",
       "8          Pygoscelis papua   6.10              NaN\n",
       "9       Spheniscus demersus   3.20              NaN\n",
       "10     Spheniscus humboldti   4.75              NaN\n",
       "11  Spheniscus magellanicus   3.40              NaN"
      ]
     },
     "execution_count": 16,
     "metadata": {},
     "output_type": "execute_result"
    }
   ],
   "source": [
    "penguins_df[\"Molecular Weight\"]= penguins_df.shape [0]*[\"NaN\"] #adding \"Molecular Weight\" column and values as NaN\n",
    "penguins_df"
   ]
  },
  {
   "cell_type": "code",
   "execution_count": 17,
   "id": "2b2fc7ec",
   "metadata": {},
   "outputs": [
    {
     "data": {
      "text/html": [
       "<div>\n",
       "<style scoped>\n",
       "    .dataframe tbody tr th:only-of-type {\n",
       "        vertical-align: middle;\n",
       "    }\n",
       "\n",
       "    .dataframe tbody tr th {\n",
       "        vertical-align: top;\n",
       "    }\n",
       "\n",
       "    .dataframe thead th {\n",
       "        text-align: right;\n",
       "    }\n",
       "</style>\n",
       "<table border=\"1\" class=\"dataframe\">\n",
       "  <thead>\n",
       "    <tr style=\"text-align: right;\">\n",
       "      <th></th>\n",
       "      <th>species</th>\n",
       "      <th>mass</th>\n",
       "      <th>Molecular Weight</th>\n",
       "      <th>GC content</th>\n",
       "    </tr>\n",
       "  </thead>\n",
       "  <tbody>\n",
       "    <tr>\n",
       "      <th>0</th>\n",
       "      <td>Aptenodytes forsteri</td>\n",
       "      <td>28.00</td>\n",
       "      <td>NaN</td>\n",
       "      <td>NaN</td>\n",
       "    </tr>\n",
       "    <tr>\n",
       "      <th>1</th>\n",
       "      <td>Aptenodytes patagonicus</td>\n",
       "      <td>13.40</td>\n",
       "      <td>NaN</td>\n",
       "      <td>NaN</td>\n",
       "    </tr>\n",
       "    <tr>\n",
       "      <th>2</th>\n",
       "      <td>Eudyptes chrysocome</td>\n",
       "      <td>2.80</td>\n",
       "      <td>NaN</td>\n",
       "      <td>NaN</td>\n",
       "    </tr>\n",
       "    <tr>\n",
       "      <th>3</th>\n",
       "      <td>Eudyptes chrysolophus</td>\n",
       "      <td>4.50</td>\n",
       "      <td>NaN</td>\n",
       "      <td>NaN</td>\n",
       "    </tr>\n",
       "    <tr>\n",
       "      <th>4</th>\n",
       "      <td>Eudyptes sclateri</td>\n",
       "      <td>4.25</td>\n",
       "      <td>NaN</td>\n",
       "      <td>NaN</td>\n",
       "    </tr>\n",
       "    <tr>\n",
       "      <th>5</th>\n",
       "      <td>Eudyptula minor</td>\n",
       "      <td>1.60</td>\n",
       "      <td>NaN</td>\n",
       "      <td>NaN</td>\n",
       "    </tr>\n",
       "    <tr>\n",
       "      <th>6</th>\n",
       "      <td>Pygoscelis adeliae</td>\n",
       "      <td>4.60</td>\n",
       "      <td>NaN</td>\n",
       "      <td>NaN</td>\n",
       "    </tr>\n",
       "    <tr>\n",
       "      <th>7</th>\n",
       "      <td>Pygoscelis antarctica</td>\n",
       "      <td>4.10</td>\n",
       "      <td>NaN</td>\n",
       "      <td>NaN</td>\n",
       "    </tr>\n",
       "    <tr>\n",
       "      <th>8</th>\n",
       "      <td>Pygoscelis papua</td>\n",
       "      <td>6.10</td>\n",
       "      <td>NaN</td>\n",
       "      <td>NaN</td>\n",
       "    </tr>\n",
       "    <tr>\n",
       "      <th>9</th>\n",
       "      <td>Spheniscus demersus</td>\n",
       "      <td>3.20</td>\n",
       "      <td>NaN</td>\n",
       "      <td>NaN</td>\n",
       "    </tr>\n",
       "    <tr>\n",
       "      <th>10</th>\n",
       "      <td>Spheniscus humboldti</td>\n",
       "      <td>4.75</td>\n",
       "      <td>NaN</td>\n",
       "      <td>NaN</td>\n",
       "    </tr>\n",
       "    <tr>\n",
       "      <th>11</th>\n",
       "      <td>Spheniscus magellanicus</td>\n",
       "      <td>3.40</td>\n",
       "      <td>NaN</td>\n",
       "      <td>NaN</td>\n",
       "    </tr>\n",
       "  </tbody>\n",
       "</table>\n",
       "</div>"
      ],
      "text/plain": [
       "                    species   mass Molecular Weight GC content\n",
       "0      Aptenodytes forsteri  28.00              NaN        NaN\n",
       "1   Aptenodytes patagonicus  13.40              NaN        NaN\n",
       "2       Eudyptes chrysocome   2.80              NaN        NaN\n",
       "3     Eudyptes chrysolophus   4.50              NaN        NaN\n",
       "4         Eudyptes sclateri   4.25              NaN        NaN\n",
       "5           Eudyptula minor   1.60              NaN        NaN\n",
       "6        Pygoscelis adeliae   4.60              NaN        NaN\n",
       "7     Pygoscelis antarctica   4.10              NaN        NaN\n",
       "8          Pygoscelis papua   6.10              NaN        NaN\n",
       "9       Spheniscus demersus   3.20              NaN        NaN\n",
       "10     Spheniscus humboldti   4.75              NaN        NaN\n",
       "11  Spheniscus magellanicus   3.40              NaN        NaN"
      ]
     },
     "execution_count": 17,
     "metadata": {},
     "output_type": "execute_result"
    }
   ],
   "source": [
    "penguins_df[\"GC content\"]= penguins_df.shape [0]*[\"NaN\"] #adding \"GC content\" column and values as NaN \n",
    "penguins_df"
   ]
  },
  {
   "cell_type": "markdown",
   "id": "57a7b027",
   "metadata": {},
   "source": [
    "Here, two new columns named \"Molecular Weight\" and \"GC content\" have been added to a pandas DataFrame called penguins_df. The columns were initialized with NaN values."
   ]
  },
  {
   "cell_type": "markdown",
   "id": "6e349fc3",
   "metadata": {},
   "source": [
    "# 7"
   ]
  },
  {
   "cell_type": "code",
   "execution_count": 18,
   "id": "851abf87",
   "metadata": {},
   "outputs": [
    {
     "name": "stdout",
     "output_type": "stream",
     "text": [
      "                    species   mass  Molecular Weight  GC content\n",
      "0      Aptenodytes forsteri  28.00        42459.6021   48.381452\n",
      "1   Aptenodytes patagonicus  13.40        42563.7067   49.693788\n",
      "2       Eudyptes chrysocome   2.80        42475.5753   51.181102\n",
      "3     Eudyptes chrysolophus   4.50        42445.5493   50.918635\n",
      "4         Eudyptes sclateri   4.25        42475.5753   50.831146\n",
      "5           Eudyptula minor   1.60        42491.6408   49.256343\n",
      "6        Pygoscelis adeliae   4.60        42458.6140   49.081365\n",
      "7     Pygoscelis antarctica   4.10        42404.5423   47.769029\n",
      "8          Pygoscelis papua   6.10        42595.8759   47.156605\n",
      "9       Spheniscus demersus   3.20        42431.5490   48.293963\n",
      "10     Spheniscus humboldti   4.75        42399.5520   49.256343\n",
      "11  Spheniscus magellanicus   3.40        42459.6021   48.206474\n"
     ]
    }
   ],
   "source": [
    "Molecular_w_list = []\n",
    "GC_content_list = []                   #start an empty list for molecular weight and GC content with []\n",
    "for key, value in cytb_seqs.items():\n",
    "    aa_seq = translate(value)          #using my translate function from part 3 to translate the DNA sequence\n",
    "    mol_wt = compute_molecular_weight(str(aa_seq)) #using my function from part 4 to compute the molecular weight \n",
    "    gc_perc = gc_content(value)*100    #here gc content is multiplied by 100 to get the gc content percentage\n",
    "    Molecular_w_list.append(mol_wt)    #Here, the values of GC content and molecular weight are  appended to the previously defined lists\n",
    "    GC_content_list.append(gc_perc)\n",
    "penguins_df[\"Molecular Weight\"] = Molecular_w_list #to replace NaN values in Molecular weight and GC content columns with the computed values\n",
    "penguins_df[\"GC content\"] = GC_content_list\n",
    "print(penguins_df) #to view the table after adding the value of Molecular weight and GC content\n"
   ]
  },
  {
   "cell_type": "markdown",
   "id": "7658ecc0",
   "metadata": {},
   "source": [
    "The first two lines of the code create empty lists called `Molecular_w_list` and `GC_content_list` that will be used to store the computed `molecular weights` and `GC contents` of the DNA sequences.\n",
    "\n",
    "The code then loops over the items in the `cytb_seqs dictionary` using a for loop. In each iteration of the loop, the DNA sequence value is translated into an amino acid sequence using the `translate` function from Part 3, and the molecular weight of the resulting amino acid sequence is computed using the `compute_molecular_weight` function from Part 4. The GC content of the DNA sequence is also computed and multiplied by 100 to obtain the percentage value.\n",
    "\n",
    "The computed molecular weight and GC content values are then appended to the `Molecular_w_list` and `GC_content_list` lists, respectively, using the append method.\n",
    "\n",
    "Finally, the \"Molecular Weight\" and \"GC content\" columns of the penguins_df DataFrame are updated with the computed molecular weight and GC content values, respectively, using the assignment operator =. The updated DataFrame is then printed to the console using the print function."
   ]
  },
  {
   "cell_type": "markdown",
   "id": "6ff5b3fd",
   "metadata": {},
   "source": [
    "# 8"
   ]
  },
  {
   "cell_type": "code",
   "execution_count": 19,
   "id": "3a74aca5",
   "metadata": {},
   "outputs": [],
   "source": [
    "%matplotlib inline"
   ]
  },
  {
   "cell_type": "code",
   "execution_count": 77,
   "id": "15e45f20",
   "metadata": {},
   "outputs": [
    {
     "data": {
      "text/plain": [
       "<AxesSubplot:title={'center':'Mass of each species'}, xlabel='species'>"
      ]
     },
     "execution_count": 77,
     "metadata": {},
     "output_type": "execute_result"
    },
    {
     "data": {
      "image/png": "[encoded data removed]",
      "text/plain": [
       "<Figure size 432x288 with 1 Axes>"
      ]
     },
     "metadata": {
      "needs_background": "light"
     },
     "output_type": "display_data"
    }
   ],
   "source": [
    "penguins_df.plot(kind='bar',x='species',y='mass', title='Mass of each species') #plotting a bar graoh using penguins dataframe"
   ]
  },
  {
   "cell_type": "markdown",
   "id": "7b4cc520",
   "metadata": {},
   "source": [
    "Q1: What is the smallest penguin species? \n",
    "Ans: Eudyptula minor is the smallest penguin by mass\n",
    "Q2: What is the geographical range of this species?\n",
    "Ans: Geographical range: Coastlines of southern Australia and New Zealand      Source:https://www.wildlife.vic.gov.au/__data/assets/pdf_file/0023/91391/Little-Penguin.pdf"
   ]
  },
  {
   "cell_type": "markdown",
   "id": "461ecefa",
   "metadata": {},
   "source": [
    "# 9 "
   ]
  },
  {
   "cell_type": "code",
   "execution_count": 20,
   "id": "801b5627",
   "metadata": {},
   "outputs": [
    {
     "name": "stderr",
     "output_type": "stream",
     "text": [
      "No artists with labels found to put in legend.  Note that artists whose label start with an underscore are ignored when legend() is called with no argument.\n"
     ]
    },
    {
     "data": {
      "text/plain": [
       "<matplotlib.legend.Legend at 0x2744ad95d60>"
      ]
     },
     "execution_count": 20,
     "metadata": {},
     "output_type": "execute_result"
    },
    {
     "data": {
      "image/png": "[encoded data removed]",
      "text/plain": [
       "<Figure size 640x480 with 1 Axes>"
      ]
     },
     "metadata": {},
     "output_type": "display_data"
    }
   ],
   "source": [
    "fig, ax =plt.subplots()         #plotting a scatter plot\n",
    "my_scatter_plot =ax.scatter(\n",
    "penguins_df[\"GC content\"],         #GC content from penguins dataframe\n",
    "penguins_df[\"Molecular Weight\"]    #Molecular Weight from penguins dataframe\n",
    ")\n",
    "\n",
    "plt.title('GC content by Molecular Weight')\n",
    "plt.xlabel('GC Content')\n",
    "plt.ylabel('Molecular Weight')\n",
    "plt.legend () #Added a title, labeled x and y axes"
   ]
  },
  {
   "cell_type": "markdown",
   "id": "a8ef45ed",
   "metadata": {},
   "source": [
    "# 10"
   ]
  },
  {
   "cell_type": "code",
   "execution_count": 29,
   "id": "55176c8d",
   "metadata": {},
   "outputs": [],
   "source": [
    "penguins_df.to_csv('penguins_mass_cytb.csv', index=False) #saving the new dataframe"
   ]
  },
  {
   "cell_type": "code",
   "execution_count": null,
   "id": "88007ab6",
   "metadata": {},
   "outputs": [],
   "source": []
  }
 ],
 "metadata": {
  "kernelspec": {
   "display_name": "Python 3 (ipykernel)",
   "language": "python",
   "name": "python3"
  },
  "language_info": {
   "codemirror_mode": {
    "name": "ipython",
    "version": 3
   },
   "file_extension": ".py",
   "mimetype": "text/x-python",
   "name": "python",
   "nbconvert_exporter": "python",
   "pygments_lexer": "ipython3",
   "version": "3.9.13"
  }
 },
 "nbformat": 4,
 "nbformat_minor": 5
}
